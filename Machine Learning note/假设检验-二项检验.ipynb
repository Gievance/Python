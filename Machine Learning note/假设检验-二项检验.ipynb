{
 "cells": [
  {
   "cell_type": "code",
   "execution_count": 3,
   "id": "6880ecb5",
   "metadata": {},
   "outputs": [],
   "source": [
    "# 全部数据ALL\n",
    "# 假设模型在ALL上的错误率为\n",
    "e_all=0.3"
   ]
  },
  {
   "cell_type": "code",
   "execution_count": 4,
   "id": "95307819",
   "metadata": {
    "scrolled": false
   },
   "outputs": [
    {
     "data": {
      "text/plain": [
       "0.6"
      ]
     },
     "execution_count": 4,
     "metadata": {},
     "output_type": "execute_result"
    }
   ],
   "source": [
    "# 测试集 T\n",
    "# T样本量\n",
    "m_T=10\n",
    "# 模型在T 上面判断错误的数量\n",
    "m_T_error=6\n",
    "# 模型在T上的错误率\n",
    "e=round(m_T_error/m_T,4)\n",
    "e"
   ]
  },
  {
   "cell_type": "markdown",
   "id": "a4deae07",
   "metadata": {},
   "source": [
    "二项分布\n",
    "![image1.png](image1.png)"
   ]
  },
  {
   "cell_type": "code",
   "execution_count": 14,
   "id": "1cb68445",
   "metadata": {
    "scrolled": true
   },
   "outputs": [
    {
     "data": {
      "text/plain": [
       "0.0368"
      ]
     },
     "execution_count": 14,
     "metadata": {},
     "output_type": "execute_result"
    }
   ],
   "source": [
    "#出现情况的概率\n",
    "from scipy.special import comb\n",
    "def calculate_p(m_T,m_T_error):\n",
    "     p=(comb(m_T,m_T_error))*(e_all**m_T_error)*((1-e_all)**(m_T-m_T_error))\n",
    "     p=round(p,4)\n",
    "     return p\n",
    "p=calculate_p(m_T,m_T_error)\n",
    "p"
   ]
  },
  {
   "cell_type": "code",
   "execution_count": 20,
   "id": "c6876445",
   "metadata": {},
   "outputs": [
    {
     "data": {
      "text/plain": [
       "[[0, 1, 2, 3, 4, 5, 6, 7, 8, 9, 10],\n",
       " [0.0282,\n",
       "  0.1211,\n",
       "  0.2335,\n",
       "  0.2668,\n",
       "  0.2001,\n",
       "  0.1029,\n",
       "  0.0368,\n",
       "  0.009,\n",
       "  0.0014,\n",
       "  0.0001,\n",
       "  0.0]]"
      ]
     },
     "execution_count": 20,
     "metadata": {},
     "output_type": "execute_result"
    }
   ],
   "source": [
    "#m_T_error各种情况[0,1,2,3,4,5,6,7,8,9,10]的概率\n",
    "def calculate_ps(m_T):\n",
    "    m_T_errors=list(range(m_T+1))\n",
    "    ps=[] #概率和\n",
    "    for i in range(len(m_T_errors)):\n",
    "        m_T_error=m_T_errors[i]\n",
    "        p=calculate_p(m_T,m_T_error)\n",
    "        ps.append(p)\n",
    "    return m_T_errors,ps\n",
    "m_T_errors,ps=calculate_ps(m_T)\n",
    "[m_T_errors,ps]"
   ]
  },
  {
   "cell_type": "code",
   "execution_count": 28,
   "id": "fe7a5440",
   "metadata": {},
   "outputs": [
    {
     "data": {
      "image/png": "[encoded data removed]",
      "text/plain": [
       "<Figure size 640x480 with 1 Axes>"
      ]
     },
     "metadata": {},
     "output_type": "display_data"
    }
   ],
   "source": [
    "import matplotlib.pyplot as plt\n",
    "def plot_bar(x,y):\n",
    "    plt.bar(x,y,width=0.8)\n",
    "    plt.show()\n",
    "    return\n",
    "plot_bar(m_T_errors,ps)\n"
   ]
  },
  {
   "cell_type": "markdown",
   "id": "9fce1b94",
   "metadata": {},
   "source": [
    "假设e=e_all=0.3的情况下，测试集错三个的概率最高"
   ]
  },
  {
   "cell_type": "code",
   "execution_count": null,
   "id": "6bd8a0aa",
   "metadata": {},
   "outputs": [],
   "source": []
  },
  {
   "cell_type": "code",
   "execution_count": null,
   "id": "58510453",
   "metadata": {},
   "outputs": [],
   "source": []
  },
  {
   "cell_type": "code",
   "execution_count": null,
   "id": "6fb0dce9",
   "metadata": {},
   "outputs": [],
   "source": []
  },
  {
   "cell_type": "code",
   "execution_count": null,
   "id": "dce5bdcb",
   "metadata": {},
   "outputs": [],
   "source": []
  },
  {
   "cell_type": "code",
   "execution_count": null,
   "id": "78e154b4",
   "metadata": {},
   "outputs": [],
   "source": []
  },
  {
   "cell_type": "code",
   "execution_count": 18,
   "id": "2ea586ff",
   "metadata": {},
   "outputs": [
    {
     "ename": "NameError",
     "evalue": "name 'm_T_errors' is not defined",
     "output_type": "error",
     "traceback": [
      "\u001b[1;31m---------------------------------------------------------------------------\u001b[0m",
      "\u001b[1;31mNameError\u001b[0m                                 Traceback (most recent call last)",
      "Cell \u001b[1;32mIn[18], line 1\u001b[0m\n\u001b[1;32m----> 1\u001b[0m [m_T_errors,ps]\n",
      "\u001b[1;31mNameError\u001b[0m: name 'm_T_errors' is not defined"
     ]
    }
   ],
   "source": []
  },
  {
   "cell_type": "code",
   "execution_count": null,
   "id": "e83c5f71",
   "metadata": {},
   "outputs": [],
   "source": []
  },
  {
   "cell_type": "code",
   "execution_count": null,
   "id": "de6b7a2f",
   "metadata": {},
   "outputs": [],
   "source": []
  },
  {
   "cell_type": "code",
   "execution_count": null,
   "id": "b1dc125c",
   "metadata": {},
   "outputs": [],
   "source": []
  },
  {
   "cell_type": "code",
   "execution_count": null,
   "id": "a6e5996a",
   "metadata": {},
   "outputs": [],
   "source": []
  },
  {
   "cell_type": "code",
   "execution_count": null,
   "id": "5907532d",
   "metadata": {},
   "outputs": [],
   "source": []
  },
  {
   "cell_type": "code",
   "execution_count": null,
   "id": "67802ad9",
   "metadata": {},
   "outputs": [],
   "source": []
  },
  {
   "cell_type": "code",
   "execution_count": null,
   "id": "aafd71bd",
   "metadata": {},
   "outputs": [],
   "source": []
  },
  {
   "cell_type": "code",
   "execution_count": null,
   "id": "0fe923e5",
   "metadata": {},
   "outputs": [],
   "source": []
  },
  {
   "cell_type": "code",
   "execution_count": null,
   "id": "19c03462",
   "metadata": {},
   "outputs": [],
   "source": []
  }
 ],
 "metadata": {
  "kernelspec": {
   "display_name": "Python 3 (ipykernel)",
   "language": "python",
   "name": "python3"
  },
  "language_info": {
   "codemirror_mode": {
    "name": "ipython",
    "version": 3
   },
   "file_extension": ".py",
   "mimetype": "text/x-python",
   "name": "python",
   "nbconvert_exporter": "python",
   "pygments_lexer": "ipython3",
   "version": "3.11.5"
  }
 },
 "nbformat": 4,
 "nbformat_minor": 5
}
