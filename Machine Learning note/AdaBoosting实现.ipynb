{
 "cells": [
  {
   "cell_type": "markdown",
   "id": "d620154d",
   "metadata": {},
   "source": [
    "AdaBoosting \n",
    "原理参考\n",
    "知乎：手把手教你AdaBoost"
   ]
  },
  {
   "cell_type": "code",
   "execution_count": 821,
   "id": "476f2f97",
   "metadata": {},
   "outputs": [
    {
     "data": {
      "text/plain": [
       "[[0, 1, 2, 3, 4, 5, 6, 7, 8, 9], [1, 1, 1, -1, -1, -1, 1, 1, 1, -1]]"
      ]
     },
     "execution_count": 821,
     "metadata": {},
     "output_type": "execute_result"
    }
   ],
   "source": [
    "#定义训练数据[x,y]\n",
    "import numpy as np\n",
    "import math\n",
    "N=10\n",
    "x=list(range(0,10))\n",
    "lenx=len(x)\n",
    "# print(len(x))=10\n",
    "y=[1,1,1,-1,-1,-1,1,1,1,-1]\n",
    "[x,y]"
   ]
  },
  {
   "cell_type": "markdown",
   "id": "75042282",
   "metadata": {},
   "source": [
    "基学习算法：二分类器"
   ]
  },
  {
   "cell_type": "markdown",
   "id": "9c3d3717",
   "metadata": {},
   "source": [
    "# 第一个个体学习器：\n",
    "\n",
    "首先认为所有x_{i},i=1,2,...,10的权重是一样的，即每一个数据同等重要（权重用来计算误差）"
   ]
  },
  {
   "cell_type": "code",
   "execution_count": 822,
   "id": "968a7421",
   "metadata": {},
   "outputs": [],
   "source": [
    "#1、更新权重\n",
    "w_1=[0.1]*10\n",
    "public_w=w_1\n"
   ]
  },
  {
   "cell_type": "code",
   "execution_count": 823,
   "id": "a324dc99",
   "metadata": {},
   "outputs": [
    {
     "name": "stdout",
     "output_type": "stream",
     "text": [
      "       0     1     2      3      4      5     6     7     8      9\n",
      "输入 0.000 1.000 2.000  3.000  4.000  5.000 6.000 7.000 8.000  9.000\n",
      "权重 0.100 0.100 0.100  0.100  0.100  0.100 0.100 0.100 0.100  0.100\n",
      "输出 1.000 1.000 1.000 -1.000 -1.000 -1.000 1.000 1.000 1.000 -1.000\n"
     ]
    }
   ],
   "source": [
    "import pandas as pd\n",
    "#将x,y,w_1,封装进data中,并显示数据分布\n",
    "def training_data(x,y,w):\n",
    "    pd.set_option('display.float_format', '{:.3f}'.format)\n",
    " \n",
    "    data={'输入':x,'权重':w,'输出':y}\n",
    "    df=pd.DataFrame(data).T\n",
    "    print(df)\n",
    "    return\n",
    "training_data(x,y,w_n)"
   ]
  },
  {
   "cell_type": "code",
   "execution_count": 824,
   "id": "e75b67aa",
   "metadata": {},
   "outputs": [
    {
     "name": "stdout",
     "output_type": "stream",
     "text": [
      "[0, 1, 2, 3, 4, 5, 6, 7, 8, 9]\n"
     ]
    }
   ],
   "source": [
    "#设置阈值\n",
    "print(x)\n",
    "thetas=[i-0.5 for i in x]\n",
    "thetas.append(9.5)"
   ]
  },
  {
   "cell_type": "code",
   "execution_count": 825,
   "id": "96a8ae3f",
   "metadata": {},
   "outputs": [],
   "source": [
    "#阈值判定\n",
    "def func_thetas(thetas,x):\n",
    "    y_all_theta_positive=[]\n",
    "    y_all_theta_negitive=[]\n",
    "    for i in thetas:\n",
    "        y_one_theta=[]\n",
    "        y_one_theta_ng=[]\n",
    "        for j in x:\n",
    "            if j<i:\n",
    "                y_one_theta.append(1)\n",
    "                y_one_theta_ng.append(-1)\n",
    "            else:\n",
    "                y_one_theta.append(-1)\n",
    "                y_one_theta_ng.append(1)\n",
    "        y_all_theta_positive.append(y_one_theta)\n",
    "        y_all_theta_negitive.append(y_one_theta_ng)\n",
    "    return y_all_theta_positive,y_all_theta_negitive\n",
    "y_all_theta_positive,y_all_theta_negitive=func_thetas(thetas,x)\n"
   ]
  },
  {
   "cell_type": "code",
   "execution_count": 826,
   "id": "5c01cc49",
   "metadata": {},
   "outputs": [
    {
     "data": {
      "text/html": [
       "<div>\n",
       "<style scoped>\n",
       "    .dataframe tbody tr th:only-of-type {\n",
       "        vertical-align: middle;\n",
       "    }\n",
       "\n",
       "    .dataframe tbody tr th {\n",
       "        vertical-align: top;\n",
       "    }\n",
       "\n",
       "    .dataframe thead th {\n",
       "        text-align: right;\n",
       "    }\n",
       "</style>\n",
       "<table border=\"1\" class=\"dataframe\">\n",
       "  <thead>\n",
       "    <tr style=\"text-align: right;\">\n",
       "      <th></th>\n",
       "      <th>0</th>\n",
       "      <th>1</th>\n",
       "      <th>2</th>\n",
       "      <th>3</th>\n",
       "      <th>4</th>\n",
       "      <th>5</th>\n",
       "      <th>6</th>\n",
       "      <th>7</th>\n",
       "      <th>8</th>\n",
       "      <th>9</th>\n",
       "      <th>10</th>\n",
       "    </tr>\n",
       "  </thead>\n",
       "  <tbody>\n",
       "    <tr>\n",
       "      <th>阈值</th>\n",
       "      <td>-0.500</td>\n",
       "      <td>0.500</td>\n",
       "      <td>1.500</td>\n",
       "      <td>2.500</td>\n",
       "      <td>3.500</td>\n",
       "      <td>4.500</td>\n",
       "      <td>5.500</td>\n",
       "      <td>6.500</td>\n",
       "      <td>7.500</td>\n",
       "      <td>8.500</td>\n",
       "      <td>9.500</td>\n",
       "    </tr>\n",
       "    <tr>\n",
       "      <th>错误率</th>\n",
       "      <td>0.600</td>\n",
       "      <td>0.500</td>\n",
       "      <td>0.400</td>\n",
       "      <td>0.300</td>\n",
       "      <td>0.400</td>\n",
       "      <td>0.500</td>\n",
       "      <td>0.600</td>\n",
       "      <td>0.500</td>\n",
       "      <td>0.400</td>\n",
       "      <td>0.300</td>\n",
       "      <td>0.400</td>\n",
       "    </tr>\n",
       "    <tr>\n",
       "      <th>权重和</th>\n",
       "      <td>0.600</td>\n",
       "      <td>0.500</td>\n",
       "      <td>0.400</td>\n",
       "      <td>0.300</td>\n",
       "      <td>0.400</td>\n",
       "      <td>0.500</td>\n",
       "      <td>0.600</td>\n",
       "      <td>0.500</td>\n",
       "      <td>0.400</td>\n",
       "      <td>0.300</td>\n",
       "      <td>0.400</td>\n",
       "    </tr>\n",
       "  </tbody>\n",
       "</table>\n",
       "</div>"
      ],
      "text/plain": [
       "        0     1     2     3     4     5     6     7     8     9     10\n",
       "阈值  -0.500 0.500 1.500 2.500 3.500 4.500 5.500 6.500 7.500 8.500 9.500\n",
       "错误率  0.600 0.500 0.400 0.300 0.400 0.500 0.600 0.500 0.400 0.300 0.400\n",
       "权重和  0.600 0.500 0.400 0.300 0.400 0.500 0.600 0.500 0.400 0.300 0.400"
      ]
     },
     "execution_count": 826,
     "metadata": {},
     "output_type": "execute_result"
    }
   ],
   "source": [
    "#计算分类误差\n",
    "def func_class_error(y,y_pre,w_n):\n",
    "    count=[]\n",
    "    error_w_min=[]\n",
    "    for i in range(len(thetas)):#计算每个阈值下的分类误差，遍历的阈值数\n",
    "        count_i=0\n",
    "        error_w=0\n",
    "        y_theta=y_pre[i]#取当前阈值下的预测值\n",
    "        for j in range(len(y)):#计算当前下的分类误差\n",
    "            if y[j]!=y_theta[j]:\n",
    "                count_i+=1\n",
    "                error_w+=w_n[j]\n",
    "        count.append(count_i/10)\n",
    "        error_w_min.append(error_w)\n",
    "    return count,error_w_min\n",
    "\n",
    "count,error_w=func_class_error(y,y_all_theta_positive,public_w)\n",
    "data2=pd.DataFrame({'阈值':thetas,'错误率':count,'权重和':error_w}).T\n",
    "data2\n",
    "        "
   ]
  },
  {
   "cell_type": "code",
   "execution_count": 827,
   "id": "87d829c1",
   "metadata": {},
   "outputs": [
    {
     "data": {
      "text/plain": [
       "[2.5, 0.3, 0.3]"
      ]
     },
     "execution_count": 827,
     "metadata": {},
     "output_type": "execute_result"
    }
   ],
   "source": [
    "#得到分类误差最小的阈值的权重和\n",
    "def func_get_w(count,error_w):\n",
    "    count_min=count[0]\n",
    "    weight_min=error_w[0]\n",
    "    theta=0\n",
    "    for i in range(len(count)):\n",
    "        if count[i]<count_min:\n",
    "            if error_w[i]>0.5:\n",
    "                continue\n",
    "            theta=thetas[i]\n",
    "            count_min=count[i]\n",
    "            weight_min=error_w[i]\n",
    "    return theta,count_min,round(weight_min,6)\n",
    "t,cm,wm=func_get_w(count,error_w)\n",
    "[t,cm,wm]"
   ]
  },
  {
   "cell_type": "code",
   "execution_count": 828,
   "id": "83a98887",
   "metadata": {},
   "outputs": [],
   "source": [
    "#获得最佳阈值对应预测列表-来得到学习表示函数\n",
    "#就是得到v=2.5下相对应y_all_theta_positive的一列表\n",
    "def get_all_theta_positive(theta,thetas):\n",
    "    n=thetas.index(theta)\n",
    "    return y_all_theta_positive[n]\n",
    "G_n=get_all_theta_positive(t,thetas)\n",
    "# G_n"
   ]
  },
  {
   "cell_type": "markdown",
   "id": "a8290c0e",
   "metadata": {},
   "source": [
    "(b).计算系数$\\alpha$，当误差小于0.5，$\\alpha>0$"
   ]
  },
  {
   "cell_type": "code",
   "execution_count": 829,
   "id": "39182ce7",
   "metadata": {},
   "outputs": [
    {
     "data": {
      "text/plain": [
       "0.4236489"
      ]
     },
     "execution_count": 829,
     "metadata": {},
     "output_type": "execute_result"
    }
   ],
   "source": [
    "def get_alpha(sumw):\n",
    "    a_n=round(0.5*math.log((1-sumw)/sumw),7)\n",
    "    return a_n\n",
    "a_n=get_alpha(wm)\n",
    "a_n"
   ]
  },
  {
   "cell_type": "markdown",
   "id": "2cb38e44",
   "metadata": {},
   "source": [
    "(c).更新训练数据的权值分布"
   ]
  },
  {
   "cell_type": "code",
   "execution_count": 830,
   "id": "6c4c0b2e",
   "metadata": {},
   "outputs": [],
   "source": [
    "def func_update_weight(a1,G_n,w_n):\n",
    "    w_news=[]\n",
    "    for i in range(len(x)):\n",
    "        w_new=w_n[i]*math.exp(-1*a1*y[i]*G_n[i])\n",
    "#         w_new=round(w_new,6)\n",
    "        w_news.append(w_new)\n",
    "    sum=0\n",
    "    for i in w_news:\n",
    "        sum+=i\n",
    "    w_news=[round(i/sum,6) for i in w_news]\n",
    "    return w_news;\n",
    "public_w=func_update_weight(a_n,G_n,public_w)"
   ]
  },
  {
   "cell_type": "code",
   "execution_count": 831,
   "id": "50930a51",
   "metadata": {
    "scrolled": true
   },
   "outputs": [
    {
     "name": "stdout",
     "output_type": "stream",
     "text": [
      "       0     1     2      3      4      5     6     7     8      9\n",
      "输入 0.000 1.000 2.000  3.000  4.000  5.000 6.000 7.000 8.000  9.000\n",
      "权重 0.071 0.071 0.071  0.071  0.071  0.071 0.167 0.167 0.167  0.071\n",
      "输出 1.000 1.000 1.000 -1.000 -1.000 -1.000 1.000 1.000 1.000 -1.000\n"
     ]
    }
   ],
   "source": [
    "#变更权重后的训练数据\n",
    "# data2={'新权重':w_news}\n",
    "# df=pd.DataFrame(data2).T\n",
    "# df\n",
    "training_data(x,y,public_w)"
   ]
  },
  {
   "cell_type": "code",
   "execution_count": 832,
   "id": "30f5a8ee",
   "metadata": {},
   "outputs": [
    {
     "data": {
      "text/plain": [
       "[0.4236489,\n",
       " 0.4236489,\n",
       " 0.4236489,\n",
       " -0.4236489,\n",
       " -0.4236489,\n",
       " -0.4236489,\n",
       " -0.4236489,\n",
       " -0.4236489,\n",
       " -0.4236489,\n",
       " -0.4236489]"
      ]
     },
     "execution_count": 832,
     "metadata": {},
     "output_type": "execute_result"
    }
   ],
   "source": [
    "#计算第一个模型加权后的预测：\n",
    "def func_f(x,a_n,G_n):\n",
    "    output=[]\n",
    "    for i in range(len(x)):\n",
    "        val=a_n*G_n[i]\n",
    "        output.append(val)\n",
    "    return output\n",
    "output_n=func_f(x,a_n,G_n)\n",
    "output_n"
   ]
  },
  {
   "cell_type": "markdown",
   "id": "261501ca",
   "metadata": {},
   "source": [
    "-----------------------"
   ]
  },
  {
   "cell_type": "markdown",
   "id": "59f1af94",
   "metadata": {},
   "source": [
    "# 第二个学习器;"
   ]
  },
  {
   "cell_type": "code",
   "execution_count": 833,
   "id": "7a9953d6",
   "metadata": {},
   "outputs": [
    {
     "name": "stdout",
     "output_type": "stream",
     "text": [
      "       0     1     2      3      4      5     6     7     8      9\n",
      "输入 0.000 1.000 2.000  3.000  4.000  5.000 6.000 7.000 8.000  9.000\n",
      "权重 0.071 0.071 0.071  0.071  0.071  0.071 0.167 0.167 0.167  0.071\n",
      "输出 1.000 1.000 1.000 -1.000 -1.000 -1.000 1.000 1.000 1.000 -1.000\n"
     ]
    }
   ],
   "source": [
    "#1、获取训练数据分布\n",
    "training_data(x,y,public_w)"
   ]
  },
  {
   "cell_type": "code",
   "execution_count": 834,
   "id": "33a959ff",
   "metadata": {},
   "outputs": [
    {
     "name": "stdout",
     "output_type": "stream",
     "text": [
      "0.6496377\n",
      "       0     1     2      3      4      5     6     7     8      9\n",
      "输入 0.000 1.000 2.000  3.000  4.000  5.000 6.000 7.000 8.000  9.000\n",
      "权重 0.045 0.045 0.045  0.167  0.167  0.167 0.106 0.106 0.106  0.045\n",
      "输出 1.000 1.000 1.000 -1.000 -1.000 -1.000 1.000 1.000 1.000 -1.000\n",
      "[1.0732865999999999, 1.0732865999999999, 1.0732865999999999, 0.2259888, 0.2259888, 0.2259888, 0.2259888, 0.2259888, 0.2259888, -1.0732865999999999]\n"
     ]
    }
   ],
   "source": [
    "def get_coefficent_positive(y,y_all_theta_positive,public_w,thetas):\n",
    "    count,error_w=func_class_error(y,y_all_theta_positive,public_w)#计算分类误差\n",
    "    \n",
    "#     print(\"count+error_w\")\n",
    "#     print(pd.DataFrame({\"分错数:\":[count],\"误差率\":[error_w]}).T)\n",
    "    theta,count_min,w_min=func_get_w(count,error_w) #计算权重和\n",
    "#     print(\"theta+count_min+w_min\")\n",
    "#     print(pd.DataFrame({\"阈值\":[theta],\"分错数\":[count_min],\"权重和\":[w_min]}).T)\n",
    "    G_n=get_all_theta_positive(theta,thetas) #计算学习器函数\n",
    "    a_n=get_alpha(w_min)#计算系数\n",
    "    return a_n,G_n\n",
    "\n",
    "\n",
    "#2、计算系数和学习器函数\n",
    "a_n,G_n=get_coefficent_positive(y,y_all_theta_positive,public_w,thetas)\n",
    "print(a_n)\n",
    "\n",
    "#3、更新权重\n",
    "public_w=func_update_weight(a_n,G_n,public_w)\n",
    "training_data(x,y,public_w)\n",
    "#4、计算加入第二个模型后的预测值\n",
    "output=func_f(x,a_n,G_n)\n",
    "output_n=[x+y for x,y in zip(output,output_n)]#zip联系两个列表\n",
    "print(output_n)"
   ]
  },
  {
   "cell_type": "markdown",
   "id": "c8768fe3",
   "metadata": {},
   "source": [
    "# 第三个学习器\n",
    "注意此处分类是大于阈值"
   ]
  },
  {
   "cell_type": "code",
   "execution_count": 835,
   "id": "d840511d",
   "metadata": {},
   "outputs": [
    {
     "name": "stdout",
     "output_type": "stream",
     "text": [
      "       0     1     2      3      4      5     6     7     8      9\n",
      "输入 0.000 1.000 2.000  3.000  4.000  5.000 6.000 7.000 8.000  9.000\n",
      "权重 0.045 0.045 0.045  0.167  0.167  0.167 0.106 0.106 0.106  0.045\n",
      "输出 1.000 1.000 1.000 -1.000 -1.000 -1.000 1.000 1.000 1.000 -1.000\n"
     ]
    }
   ],
   "source": [
    "#1、获取数据分布\n",
    "training_data(x,y,public_w)\n"
   ]
  },
  {
   "cell_type": "code",
   "execution_count": 836,
   "id": "fbf59a60",
   "metadata": {},
   "outputs": [
    {
     "name": "stdout",
     "output_type": "stream",
     "text": [
      "[0.4, 0.5, 0.6, 0.7, 0.6, 0.5, 0.4, 0.5, 0.6, 0.7, 0.6] [0.5454530000000001, 0.590908, 0.636363, 0.681818, 0.515152, 0.3484860000000001, 0.18182, 0.28788100000000005, 0.39394200000000007, 0.5000030000000001, 0.45454800000000006]\n",
      "0.4 0.18182 5.5\n",
      "0.7520326 [-1, -1, -1, -1, -1, -1, 1, 1, 1, 1]\n"
     ]
    }
   ],
   "source": [
    "#2、计算系数和学习器函数\n",
    "def get_prediction(x,y,thetas):\n",
    "    pre_all_theta=[]\n",
    "    for i in thetas:\n",
    "        pre=[]\n",
    "        for j in x:\n",
    "            if j>i:\n",
    "                pre.append(1)\n",
    "            else:\n",
    "                pre.append(-1)\n",
    "        pre_all_theta.append(pre)\n",
    "    return pre_all_theta\n",
    "pre_all_theta=get_prediction(x,y,thetas)\n",
    "# print(pre_all_theta,len(pre_all_theta))\n",
    "\n",
    "def get_class_error(y,pre_all_theta):\n",
    "    count_all=[]\n",
    "    weight_sum_all=[]\n",
    "    for i in range(len(pre_all_theta)):\n",
    "        pre=pre_all_theta[i]\n",
    "        count=0\n",
    "        weight=0\n",
    "        for j in range(len(y)):\n",
    "            if y[j]!=pre[j]:\n",
    "                count+=1\n",
    "                weight+=public_w[j]\n",
    "        count_all.append(count/10)\n",
    "        weight_sum_all.append(weight)\n",
    "    return count_all,weight_sum_all#返回分错率和权重和\n",
    "count_all,weight_sum_all=get_class_error(y,pre_all_theta)\n",
    "print(count_all,weight_sum_all)\n",
    "\n",
    "def get_min_weight(count_all,weight_sum_all,thetas):\n",
    "    minc=count_all[0]\n",
    "    minw=weight_sum_all[0]\n",
    "    theta=0\n",
    "    for i in range(len(count_all)):\n",
    "        if count_all[i]<=minc:\n",
    "            if weight_sum_all[i]>0.5:\n",
    "                continue\n",
    "            minc=count_all[i]\n",
    "            minw=weight_sum_all[i]\n",
    "            theta=thetas[i]\n",
    "    return minc,minw,theta\n",
    "minc,minw,t=get_min_weight(count_all,weight_sum_all,thetas)\n",
    "print(minc,minw,t)\n",
    "\n",
    "#计算系数和学习器函数式\n",
    "a_n=get_alpha(minw)\n",
    "def get_G_n(theta,thetas):\n",
    "    n=thetas.index(theta)\n",
    "    return pre_all_theta[n]\n",
    "G_n=get_G_n(t,thetas)\n",
    "\n",
    "print(a_n,G_n)"
   ]
  },
  {
   "cell_type": "code",
   "execution_count": 837,
   "id": "17345ce4",
   "metadata": {},
   "outputs": [
    {
     "name": "stdout",
     "output_type": "stream",
     "text": [
      "       0     1     2      3      4      5     6     7     8      9\n",
      "输入 0.000 1.000 2.000  3.000  4.000  5.000 6.000 7.000 8.000  9.000\n",
      "权重 0.125 0.125 0.125  0.102  0.102  0.102 0.065 0.065 0.065  0.125\n",
      "输出 1.000 1.000 1.000 -1.000 -1.000 -1.000 1.000 1.000 1.000 -1.000\n"
     ]
    },
    {
     "data": {
      "text/html": [
       "<div>\n",
       "<style scoped>\n",
       "    .dataframe tbody tr th:only-of-type {\n",
       "        vertical-align: middle;\n",
       "    }\n",
       "\n",
       "    .dataframe tbody tr th {\n",
       "        vertical-align: top;\n",
       "    }\n",
       "\n",
       "    .dataframe thead th {\n",
       "        text-align: right;\n",
       "    }\n",
       "</style>\n",
       "<table border=\"1\" class=\"dataframe\">\n",
       "  <thead>\n",
       "    <tr style=\"text-align: right;\">\n",
       "      <th></th>\n",
       "      <th>0</th>\n",
       "      <th>1</th>\n",
       "      <th>2</th>\n",
       "      <th>3</th>\n",
       "      <th>4</th>\n",
       "      <th>5</th>\n",
       "      <th>6</th>\n",
       "      <th>7</th>\n",
       "      <th>8</th>\n",
       "      <th>9</th>\n",
       "    </tr>\n",
       "  </thead>\n",
       "  <tbody>\n",
       "    <tr>\n",
       "      <th>f3（x）</th>\n",
       "      <td>0.321</td>\n",
       "      <td>0.321</td>\n",
       "      <td>0.321</td>\n",
       "      <td>-0.526</td>\n",
       "      <td>-0.526</td>\n",
       "      <td>-0.526</td>\n",
       "      <td>0.978</td>\n",
       "      <td>0.978</td>\n",
       "      <td>0.978</td>\n",
       "      <td>-0.321</td>\n",
       "    </tr>\n",
       "  </tbody>\n",
       "</table>\n",
       "</div>"
      ],
      "text/plain": [
       "          0     1     2      3      4      5     6     7     8      9\n",
       "f3（x） 0.321 0.321 0.321 -0.526 -0.526 -0.526 0.978 0.978 0.978 -0.321"
      ]
     },
     "execution_count": 837,
     "metadata": {},
     "output_type": "execute_result"
    }
   ],
   "source": [
    "#3、更新权重\n",
    "public_w=func_update_weight(a_n,G_n,public_w)\n",
    "training_data(x,y,public_w)\n",
    "# #4、计算加入第三个模型后的预测值\n",
    "output=func_f(x,a_n,G_n)\n",
    "output_n=[x+y for x,y in zip(output,output_n)]\n",
    "df=pd.DataFrame({'f3（x）':output_n}).T\n",
    "df"
   ]
  },
  {
   "attachments": {
    "%E5%9B%BE%E7%89%87.png": {
     "image/png": "[encoded data removed]"
    }
   },
   "cell_type": "markdown",
   "id": "62d176fb",
   "metadata": {},
   "source": [
    "![%E5%9B%BE%E7%89%87.png](attachment:%E5%9B%BE%E7%89%87.png)"
   ]
  },
  {
   "cell_type": "code",
   "execution_count": null,
   "id": "b15c8fa9",
   "metadata": {},
   "outputs": [],
   "source": []
  },
  {
   "cell_type": "code",
   "execution_count": null,
   "id": "a71b196f",
   "metadata": {},
   "outputs": [],
   "source": []
  }
 ],
 "metadata": {
  "kernelspec": {
   "display_name": "Python 3 (ipykernel)",
   "language": "python",
   "name": "python3"
  },
  "language_info": {
   "codemirror_mode": {
    "name": "ipython",
    "version": 3
   },
   "file_extension": ".py",
   "mimetype": "text/x-python",
   "name": "python",
   "nbconvert_exporter": "python",
   "pygments_lexer": "ipython3",
   "version": "3.11.5"
  }
 },
 "nbformat": 4,
 "nbformat_minor": 5
}
