{
 "cells": [
  {
   "cell_type": "markdown",
   "id": "05ce37ba",
   "metadata": {},
   "source": [
    "# 第二章 序列构成的数组\n",
    "\n",
    "内置序列:list,tuple,collections.deque\n",
    "扁平序列:str,bytes,bytearray,memoryview,array.array\n",
    "\n",
    "可变序列;list,bytearray,array.array,collections.deque,memoryview\n",
    "不可变序列:tuple,str,bytes"
   ]
  },
  {
   "cell_type": "code",
   "execution_count": 3,
   "id": "ac95e3dd",
   "metadata": {},
   "outputs": [
    {
     "name": "stdout",
     "output_type": "stream",
     "text": [
      "['ALICE', 'JERRY', 'WENDY', 'SMITH']\n",
      "<class 'list'>\n"
     ]
    }
   ],
   "source": [
    "# 列表推导式:生成列表\n",
    "\"\"\"\n",
    " [表达式 for 变量 in 列表 [if 条件] ]\n",
    " \n",
    "\"\"\"\n",
    "names = ['Bob','Tom','alice','Jerry','Wendy','Smith']\n",
    "new_names = [name.upper()for name in names if len(name)>3]\n",
    "print(new_names)\n",
    "print(type(names)) # 列表推导式返回的是列表"
   ]
  },
  {
   "cell_type": "code",
   "execution_count": 12,
   "id": "0b601bd0",
   "metadata": {},
   "outputs": [
    {
     "name": "stdout",
     "output_type": "stream",
     "text": [
      "<class 'generator'>\n",
      "(1, 2, 3, 4, 5, 6, 7, 8, 9)\n"
     ]
    }
   ],
   "source": [
    "# 元组推导式（生成器表达式）:生成器表达式背后遵守的迭代器协议，可以逐个地产出元素。\n",
    "\"\"\"\n",
    "(expression for item in Sequence [if conditional] )\n",
    "\"\"\"\n",
    "a = (x for x in range(1,10))\n",
    "print(type(a))# 返回的是生成器对象\n",
    "\n",
    "print(tuple(a))# 使用 tuple() 函数，可以直接将生成器对象转换成元组"
   ]
  },
  {
   "cell_type": "code",
   "execution_count": 14,
   "id": "10ee1adf",
   "metadata": {},
   "outputs": [
    {
     "name": "stdout",
     "output_type": "stream",
     "text": [
      "{'d', 'r'}\n",
      "<class 'set'>\n"
     ]
    }
   ],
   "source": [
    "# 集合推导式\n",
    "\"\"\"\n",
    "{ expression for item in Sequence [if conditional] }\n",
    "\"\"\"\n",
    "a = {x for x in 'abracadabra' if x not in 'abc'}\n",
    "print(a)\n",
    "\n",
    "print(type(a))# 返回集合类型\n"
   ]
  },
  {
   "cell_type": "code",
   "execution_count": 15,
   "id": "3d3cb074",
   "metadata": {},
   "outputs": [
    {
     "name": "stdout",
     "output_type": "stream",
     "text": [
      "{'Google': 6, 'Runoob': 6, 'Taobao': 6}\n",
      "<class 'dict'>\n"
     ]
    }
   ],
   "source": [
    "# 字典推导式\n",
    "\"\"\"\n",
    "{ key_expr: value_expr for value in collection if condition }\n",
    "\"\"\"\n",
    "listdemo = ['Google','Runoob', 'Taobao']\n",
    "# 将列表中各字符串值为键，各字符串的长度为值，组成键值对\n",
    "newdict = {key:len(key) for key in listdemo}\n",
    "print(newdict)\n",
    "print(type(newdict)) # 返回字典类型\n"
   ]
  },
  {
   "cell_type": "markdown",
   "id": "f5d15b5b",
   "metadata": {},
   "source": [
    "元组是对数据的记录：元组中的每个元素都存放了记录中一个字段的数据，外加这个字段的位置。正是这个位置信息给数据赋予了意义。\n",
    "元组拆包\n",
    "具名元组：给记录中的字段命名\n",
    "切片操作：适用列表，元组，字符串\n",
    "序列的+和*操作，以及增量赋值（+=,*=）\n",
    "list.sort和内置函数sorted\n",
    "数组:array.array\n",
    "内存视图：memoryview\n",
    "双向队列和其他队列：collections.deque\n",
    "\n"
   ]
  }
 ],
 "metadata": {
  "kernelspec": {
   "display_name": "Python 3 (ipykernel)",
   "language": "python",
   "name": "python3"
  },
  "language_info": {
   "codemirror_mode": {
    "name": "ipython",
    "version": 3
   },
   "file_extension": ".py",
   "mimetype": "text/x-python",
   "name": "python",
   "nbconvert_exporter": "python",
   "pygments_lexer": "ipython3",
   "version": "3.9.18"
  }
 },
 "nbformat": 4,
 "nbformat_minor": 5
}
